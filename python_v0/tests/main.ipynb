{
 "cells": [
  {
   "cell_type": "code",
   "execution_count": null,
   "id": "1d61f388",
   "metadata": {},
   "outputs": [],
   "source": [
    "from PIL import Image\n",
    "\n",
    "width, height = 256, 256\n",
    "\n",
    "white_img = Image.new(\"RGB\", (width, height), (255, 255, 255))\n",
    "white_path = \"images/white_256x256.png\"\n",
    "white_img.save(white_path)\n",
    "\n",
    "black_img = Image.new(\"RGB\", (width, height), (0, 0, 0))\n",
    "black_path = \"images/black_256x256.png\"\n",
    "black_img.save(black_path)\n",
    "\n",
    "white_img.show()\n",
    "black_img.show()\n",
    "\n",
    "## Create image 256x256x3 pixels , white & black image"
   ]
  },
  {
   "cell_type": "code",
   "execution_count": null,
   "id": "f4e1a094",
   "metadata": {},
   "outputs": [],
   "source": [
    "import matplotlib.pyplot as plt\n",
    "import matplotlib.image as mpimg\n",
    "\n",
    "white_img = mpimg.imread(white_path)\n",
    "black_img = mpimg.imread(black_path)\n",
    "\n",
    "plt.subplot(1, 2, 1)\n",
    "plt.imshow(white_img)\n",
    "plt.title(\"White Image\")\n",
    "\n",
    "plt.subplot(1, 2, 2)\n",
    "plt.imshow(black_img)\n",
    "plt.title(\"Black Image\")\n",
    "\n",
    "plt.show()\n",
    "\n",
    "## show images with matplotlib"
   ]
  },
  {
   "cell_type": "code",
   "execution_count": null,
   "id": "cf1b0457",
   "metadata": {},
   "outputs": [],
   "source": [
    "import matplotlib.pyplot as plt\n",
    "import matplotlib.image as mpimg\n",
    "\n",
    "white_img = mpimg.imread(\"./images/white_256x256.png\")\n",
    "black_img = mpimg.imread(\"./images/black_256x256.png\")\n",
    "\n",
    "fig,axes = plt.subplots(1,2,figsize=(6,3))\n",
    "\n",
    "axes[0].imshow(white_img)\n",
    "axes[0].set_title(\"White Image\")\n",
    "axes[0].axis(\"off\")\n",
    "\n",
    "axes[1].imshow(black_img)\n",
    "axes[1].set_title(\"Black Image\")\n",
    "axes[1].axis(\"off\")\n",
    "\n",
    "plt.tight_layout()\n",
    "plt.show()"
   ]
  },
  {
   "cell_type": "code",
   "execution_count": null,
   "id": "ec741cd9",
   "metadata": {},
   "outputs": [],
   "source": [
    "from PIL import Image\n",
    "import matplotlib.pyplot as plt\n",
    "import matplotlib.image as mpimg\n",
    "\n",
    "image_mode = \"L\"\n",
    "width, height = 256, 256\n",
    "white_img = 255\n",
    "black_img = 0\n",
    "save_path_gray_white = \"./images/gray_white_256x256.png\"\n",
    "save_path_gray_black = \"./images/gray_black_256x256.png\"\n",
    "\n",
    "img_gray_white = Image.new(image_mode, (width, height), white_img)\n",
    "img_gray_white.save(save_path_gray_white)\n",
    "\n",
    "img_gray_black = Image.new(image_mode, (width, height), black_img)\n",
    "img_gray_black.save(save_path_gray_black)\n",
    "\n",
    "gray_white_img = mpimg.imread(save_path_gray_white)\n",
    "gray_black_img = mpimg.imread(save_path_gray_black)\n",
    "\n",
    "fig, axes = plt.subplots(1, 2, figsize=(6, 3))\n",
    "\n",
    "axes[0].imshow(gray_white_img, cmap='gray')\n",
    "axes[0].set_title(\"Gray White Image\")\n",
    "axes[0].axis(\"off\")\n",
    "\n",
    "axes[1].imshow(gray_black_img, cmap='gray')\n",
    "axes[1].set_title(\"Gray Black Image\")\n",
    "axes[1].axis(\"off\")\n",
    "\n",
    "plt.tight_layout()\n",
    "plt.show()"
   ]
  },
  {
   "cell_type": "code",
   "execution_count": 14,
   "id": "72e8d887",
   "metadata": {},
   "outputs": [
    {
     "data": {
      "image/png": "[encoded data removed]",
      "text/plain": [
       "<Figure size 900x300 with 3 Axes>"
      ]
     },
     "metadata": {},
     "output_type": "display_data"
    }
   ],
   "source": [
    "## Numpy with Pillow\n",
    "import numpy as np\n",
    "from PIL import Image\n",
    "import matplotlib.pyplot as plt\n",
    "\n",
    "width, height = 256, 256\n",
    "\n",
    "## Create black image with numpy array\n",
    "array_black = np.zeros((height, width), dtype=np.uint8)\n",
    "Image.fromarray(array_black, mode=\"L\").save(\"./images/numpy_black_256x256.png\")\n",
    "\n",
    "## Create white image with numpy array\n",
    "array_white = np.full((height, width), 255, dtype=np.uint8)\n",
    "Image.fromarray(array_white, mode=\"L\").save(\"./images/numpy_white_256x256.png\")\n",
    "\n",
    "## Create only blue image with numpy array\n",
    "array_blue = np.zeros((height, width, 3), dtype=np.uint8)\n",
    "array_blue[...,2]=255\n",
    "Image.fromarray(array_blue, mode=\"RGB\").save(\"./images/numpy_blue_256x256.png\")\n",
    "\n",
    "fig, axes = plt.subplots(1, 3, figsize=(9, 3))\n",
    "axes[0].imshow(array_black, cmap=\"gray\")\n",
    "axes[0].set_title(\"Black Image\")\n",
    "axes[0].axis(\"off\")\n",
    "\n",
    "axes[1].imshow(array_white, cmap=\"gray\")\n",
    "axes[1].set_title(\"White Image\")\n",
    "axes[1].axis(\"off\")\n",
    "\n",
    "axes[2].imshow(array_blue)\n",
    "axes[2].set_title(\"Blue Image\")\n",
    "axes[2].axis(\"off\")\n",
    "\n",
    "plt.show()"
   ]
  },
  {
   "cell_type": "code",
   "execution_count": 16,
   "id": "f7e25776",
   "metadata": {},
   "outputs": [
    {
     "name": "stdout",
     "output_type": "stream",
     "text": [
      "L (256, 256)\n"
     ]
    }
   ],
   "source": [
    "from PIL import Image\n",
    "\n",
    "img = Image.open(\"images/numpy_white_256x256.png\")\n",
    "print(img.mode, img.size)"
   ]
  }
 ],
 "metadata": {
  "kernelspec": {
   "display_name": "Python 3",
   "language": "python",
   "name": "python3"
  },
  "language_info": {
   "codemirror_mode": {
    "name": "ipython",
    "version": 3
   },
   "file_extension": ".py",
   "mimetype": "text/x-python",
   "name": "python",
   "nbconvert_exporter": "python",
   "pygments_lexer": "ipython3",
   "version": "3.13.0"
  }
 },
 "nbformat": 4,
 "nbformat_minor": 5
}
