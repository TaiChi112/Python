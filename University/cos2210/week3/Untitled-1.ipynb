{
 "cells": [
  {
   "cell_type": "code",
   "execution_count": null,
   "metadata": {},
   "outputs": [
    {
     "name": "stdout",
     "output_type": "stream",
     "text": [
      "['__class__', '__delattr__', '__dict__', '__dir__', '__doc__', '__eq__', '__firstlineno__', '__format__', '__ge__', '__getattribute__', '__getstate__', '__gt__', '__hash__', '__init__', '__init_subclass__', '__le__', '__lt__', '__module__', '__ne__', '__new__', '__reduce__', '__reduce_ex__', '__repr__', '__setattr__', '__sizeof__', '__static_attributes__', '__str__', '__subclasshook__', '__weakref__', 'displayAnything', 'show', 'x', 'y', 'z']\n",
      "(1, 2, 3)\n"
     ]
    }
   ],
   "source": [
    "class A():\n",
    "    def __init__(self):\n",
    "        self.x = 1\n",
    "        self.y = 2\n",
    "        self.z = 3\n",
    "    def show(self):\n",
    "        return self.x, self.y, self.z\n",
    "    def displayAnything():\n",
    "        print(\"Hello Python\")\n",
    "\n",
    "a: A = A()\n",
    "print(a.show())"
   ]
  },
  {
   "cell_type": "code",
   "execution_count": null,
   "metadata": {},
   "outputs": [],
   "source": [
    "print(type(a))\n",
    "dir(a)\n"
   ]
  },
  {
   "cell_type": "code",
   "execution_count": 22,
   "metadata": {},
   "outputs": [
    {
     "name": "stdout",
     "output_type": "stream",
     "text": [
      "Audi Red 2019\n",
      "Audi Red 2019\n"
     ]
    }
   ],
   "source": [
    "class Car():\n",
    "    def __init__(self, model, color, year):\n",
    "        self.model = model\n",
    "        self.color = color\n",
    "        self.year = year\n",
    "    def info(self):\n",
    "        print(self.model, self.color, self.year)\n",
    "\n",
    "car1: Car = Car(\"Audi\", \"Red\", 2019)\n",
    "print(car1.model, car1.color, car1.year)\n",
    "car1.info()\n",
    "    "
   ]
  },
  {
   "cell_type": "code",
   "execution_count": null,
   "metadata": {},
   "outputs": [
    {
     "name": "stdout",
     "output_type": "stream",
     "text": [
      "xxxx 0000 1121\n",
      "xxxx 0000 1121\n",
      "None\n",
      "xxxx 0000 1121\n"
     ]
    }
   ],
   "source": [
    "class Car():\n",
    "    def __init__(self):\n",
    "        self.model = \"xxxx\"\n",
    "        self.color = \"0000\"\n",
    "        self.year = \"1121\"\n",
    "    def info(self):\n",
    "        print(self.model, self.color, self.year)\n",
    "\n",
    "car2:Car = Car()\n",
    "print(car2.model, car2.color, car2.year)\n",
    "print(car2.info())\n",
    "car2.info()\n",
    "# dir(car2)"
   ]
  },
  {
   "cell_type": "code",
   "execution_count": 25,
   "metadata": {},
   "outputs": [
    {
     "name": "stdout",
     "output_type": "stream",
     "text": [
      "1 0\n",
      "1\n",
      "1\n"
     ]
    }
   ],
   "source": [
    "class A:\n",
    "    y = 0\n",
    "    def __init__(self):\n",
    "        self.x = 1\n",
    "    def info(self):\n",
    "        print(self.x)\n",
    "        \n",
    "a:A=A()\n",
    "print(a.x, a.y)\n",
    "a.info()\n",
    "A.info(a)"
   ]
  },
  {
   "cell_type": "code",
   "execution_count": null,
   "metadata": {},
   "outputs": [
    {
     "name": "stdout",
     "output_type": "stream",
     "text": [
      "bye bye 1\n",
      "bye bye 2\n",
      "bye bye 4\n",
      "bye bye 5\n",
      "bye bye 3\n"
     ]
    }
   ],
   "source": [
    "class A():\n",
    "    cnt = 0\n",
    "    def __init__(self,x):\n",
    "        self.x = x\n",
    "        A.cnt += 1\n",
    "        \n",
    "    def info(self):\n",
    "        return (self.x)\n",
    "    def __del__(self):\n",
    "        A.cnt -= 1\n",
    "        print(\"bye bye\", self.x)\n",
    "    \n",
    "a = A(1)\n",
    "b = A(2)\n",
    "c = A(3)\n",
    "d = A(4)\n",
    "e = A(5)\n",
    "\n",
    "del(c)"
   ]
  },
  {
   "cell_type": "code",
   "execution_count": null,
   "metadata": {},
   "outputs": [],
   "source": []
  }
 ],
 "metadata": {
  "kernelspec": {
   "display_name": "Python 3",
   "language": "python",
   "name": "python3"
  },
  "language_info": {
   "codemirror_mode": {
    "name": "ipython",
    "version": 3
   },
   "file_extension": ".py",
   "mimetype": "text/x-python",
   "name": "python",
   "nbconvert_exporter": "python",
   "pygments_lexer": "ipython3",
   "version": "3.13.0"
  }
 },
 "nbformat": 4,
 "nbformat_minor": 2
}
